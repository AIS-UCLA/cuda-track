{
  "nbformat": 4,
  "nbformat_minor": 0,
  "metadata": {
    "colab": {
      "provenance": [],
      "gpuType": "T4"
    },
    "kernelspec": {
      "name": "python3",
      "display_name": "Python 3"
    },
    "language_info": {
      "name": "python"
    },
    "accelerator": "GPU"
  },
  "cells": [
    {
      "cell_type": "markdown",
      "source": [
        "## GPU Puzzles in CUDA C++\n",
        "By Devin Shah - [@devinshah16](https://twitter.com/DevinShah16)\n",
        "\n",
        "Puzzles adapted from [Sasha Rush](http://rush-nlp.com/)\n",
        "\n",
        "GPUs are pretty cool.\n",
        "\n",
        "Make your own copy of this notebook in Colab, turn on GPU mode in the settings (`Runtime / Change runtime type`, then set `Hardware accelerator` to `GPU`), and\n",
        "then get to coding. ***You might get a warning saying that the GPU is not being used, but it is in fact being used. Ignore this warning. If using a free version, be careful of quotas.***\n",
        "\n",
        "\n",
        "Read the [CUDA C++ bindings guide ](https://docs.nvidia.com/cuda/pdf/CUDA_C_Programming_Guide.pdf)"
      ],
      "metadata": {
        "id": "cEdb9ewLcnlk"
      }
    },
    {
      "cell_type": "code",
      "source": [
        "!git clone https://github.com/dshah3/GPU-Puzzles.git\n"
      ],
      "metadata": {
        "colab": {
          "base_uri": "https://localhost:8080/"
        },
        "id": "t07XOkGYOljf",
        "outputId": "8d741617-aaeb-4deb-8421-82ae97e177b1"
      },
      "execution_count": null,
      "outputs": [
        {
          "output_type": "stream",
          "name": "stdout",
          "text": [
            "Cloning into 'GPU-Puzzles'...\n",
            "remote: Enumerating objects: 223, done.\u001b[K\n",
            "remote: Counting objects: 100% (115/115), done.\u001b[K\n",
            "remote: Compressing objects: 100% (26/26), done.\u001b[K\n",
            "remote: Total 223 (delta 102), reused 89 (delta 89), pack-reused 108\u001b[K\n",
            "Receiving objects: 100% (223/223), 1.00 MiB | 4.46 MiB/s, done.\n",
            "Resolving deltas: 100% (156/156), done.\n"
          ]
        }
      ]
    },
    {
      "cell_type": "code",
      "source": [
        "%cd GPU-Puzzles/GPU_puzzlers_exec"
      ],
      "metadata": {
        "colab": {
          "base_uri": "https://localhost:8080/"
        },
        "id": "MmYXrz5-O6ZF",
        "outputId": "41a9f697-cf43-4029-a8b4-50e67e5b0739"
      },
      "execution_count": null,
      "outputs": [
        {
          "output_type": "stream",
          "name": "stdout",
          "text": [
            "/content/GPU-Puzzles/GPU_puzzlers_exec\n"
          ]
        }
      ]
    },
    {
      "cell_type": "markdown",
      "source": [
        "Make sure `nvcc` is installed. If it is not, this notebook will not work."
      ],
      "metadata": {
        "id": "qtI4xlZ5rCA-"
      }
    },
    {
      "cell_type": "code",
      "execution_count": null,
      "metadata": {
        "colab": {
          "base_uri": "https://localhost:8080/"
        },
        "id": "OH6Z1OfgOdHJ",
        "outputId": "254191a5-7357-4702-be2e-51db7d1afcc2"
      },
      "outputs": [
        {
          "output_type": "stream",
          "name": "stdout",
          "text": [
            "nvcc: NVIDIA (R) Cuda compiler driver\n",
            "Copyright (c) 2005-2023 NVIDIA Corporation\n",
            "Built on Tue_Aug_15_22:02:13_PDT_2023\n",
            "Cuda compilation tools, release 12.2, V12.2.140\n",
            "Build cuda_12.2.r12.2/compiler.33191640_0\n"
          ]
        }
      ],
      "source": [
        "!nvcc --version"
      ]
    },
    {
      "cell_type": "markdown",
      "source": [
        "## Puzzle 1 - Zip\n",
        "Implement a kernel that adds together each position of `A` and `B` and stores it in `C`. You have 1 thread per position.\n",
        "\n",
        "**Warning** This code looks like C++ but it is really CUDA C++! You have to be careful; for example, C++ supports indexing arrays like so: `A[i][j]`, but CUDA C++ allows for 1D indexing only, like so: `A[i * size + j]`.\n",
        "The puzzles only require doing simple operations, basically\n",
        "+, *, simple array indexing, for loops, and if statements.\n",
        "You are allowed to use local variables.\n",
        "If you get an\n",
        "error it is probably because you did something fancy :)."
      ],
      "metadata": {
        "id": "qacs6IVBc6Qg"
      }
    },
    {
      "cell_type": "code",
      "source": [
        "%%writefile zip_kernel.cu\n",
        "#include <cuda_runtime.h>\n",
        "\n",
        "__global__ void VecAdd(float* A, float* B, float* C) {\n",
        "  /// CODE HERE (approx 1 line) ///\n",
        "\n",
        "}"
      ],
      "metadata": {
        "colab": {
          "base_uri": "https://localhost:8080/"
        },
        "id": "Qn646k23Pgf-",
        "outputId": "8ebf53be-58d0-47f5-bff8-c5d50cd59cb3"
      },
      "execution_count": null,
      "outputs": [
        {
          "output_type": "stream",
          "name": "stdout",
          "text": [
            "Writing zip_kernel.cu\n"
          ]
        }
      ]
    },
    {
      "cell_type": "code",
      "source": [
        "!nvcc -c -o zip_runner.o zip_runner.cu\n",
        "!nvcc -c -o zip_kernel.o zip_kernel.cu\n",
        "!nvcc -o zip zip_runner.o zip_kernel.o\n",
        "!./zip\n",
        "!compute-sanitizer ./zip"
      ],
      "metadata": {
        "colab": {
          "base_uri": "https://localhost:8080/"
        },
        "id": "bxivdZRnUWa3",
        "outputId": "9cb7085c-d636-4caa-a7c6-210c02578d39"
      },
      "execution_count": null,
      "outputs": [
        {
          "output_type": "stream",
          "name": "stdout",
          "text": [
            "Vector addition successful!\n",
            "========= COMPUTE-SANITIZER\n",
            "Vector addition successful!\n",
            "========= ERROR SUMMARY: 0 errors\n"
          ]
        }
      ]
    },
    {
      "cell_type": "markdown",
      "source": [
        "## Puzzle 2 - Broadcast\n",
        "\n",
        "Implement a kernel that adds `A` and `B` and stores it in `C`.\n",
        "Inputs `A` and `B` are vectors. You have more threads than positions.\n",
        "1D indexing doesn't work for 2D arrays in CUDA C++. You can calculate the index from i and j by computing `i * size + j`."
      ],
      "metadata": {
        "id": "2YZo_quDfwjc"
      }
    },
    {
      "cell_type": "code",
      "source": [
        "%%writefile broadcast_kernel.cu\n",
        "#include <cuda_runtime.h>\n",
        "\n",
        "__global__ void Broadcast(float* A, float* B, float* C, int size) {\n",
        "  /// CODE HERE (approx 4 lines) ///\n",
        "\n",
        "}"
      ],
      "metadata": {
        "colab": {
          "base_uri": "https://localhost:8080/"
        },
        "id": "fk-YMnrEVdmT",
        "outputId": "695d6632-eb7a-4089-f2d5-e86f1670b355"
      },
      "execution_count": null,
      "outputs": [
        {
          "output_type": "stream",
          "name": "stdout",
          "text": [
            "Writing broadcast_kernel.cu\n"
          ]
        }
      ]
    },
    {
      "cell_type": "code",
      "source": [
        "!nvcc -c -o broadcast_runner.o broadcast_runner.cu\n",
        "!nvcc -c -o broadcast_kernel.o broadcast_kernel.cu\n",
        "!nvcc -o broadcast broadcast_runner.o broadcast_kernel.o\n",
        "!./broadcast\n",
        "!compute-sanitizer ./broadcast"
      ],
      "metadata": {
        "colab": {
          "base_uri": "https://localhost:8080/"
        },
        "id": "G1aucnlAV2Sh",
        "outputId": "f428720b-0062-4bd6-c6d2-a772022fd51e"
      },
      "execution_count": null,
      "outputs": [
        {
          "output_type": "stream",
          "name": "stdout",
          "text": [
            "Broadcast successful\n",
            "========= COMPUTE-SANITIZER\n",
            "Broadcast successful\n",
            "========= ERROR SUMMARY: 0 errors\n"
          ]
        }
      ]
    },
    {
      "cell_type": "markdown",
      "source": [
        "## Puzzle 3 - Blocks\n",
        "\n",
        "Implement a kernel that adds 10 to each position of `A` and stores it in `C`.\n",
        "You have fewer threads per block than the size of `A`.\n",
        "\n",
        "*Tip: A block is a group of threads. The number of threads per block is limited, but we can\n",
        "have many different blocks. Variable `cuda.blockIdx` tells us what block we are in.*"
      ],
      "metadata": {
        "id": "Nii7pyQDf1Gn"
      }
    },
    {
      "cell_type": "code",
      "source": [
        "%%writefile blocks_kernel.cu\n",
        "#include <cuda_runtime.h>\n",
        "\n",
        "__global__ void Blocks(float* A, float* C, float size) {\n",
        "  /// CODE HERE (approx 3 lines) ///\n",
        "\n",
        "}"
      ],
      "metadata": {
        "colab": {
          "base_uri": "https://localhost:8080/"
        },
        "id": "h6FRDqGNV_gG",
        "outputId": "1f0ffc8d-1d26-46dd-c67e-d2dc48329a6d"
      },
      "execution_count": null,
      "outputs": [
        {
          "output_type": "stream",
          "name": "stdout",
          "text": [
            "Writing blocks_kernel.cu\n"
          ]
        }
      ]
    },
    {
      "cell_type": "code",
      "source": [
        "!nvcc -c -o blocks_runner.o blocks_runner.cu\n",
        "!nvcc -c -o blocks_kernel.o blocks_kernel.cu\n",
        "!nvcc -o blocks blocks_runner.o blocks_kernel.o\n",
        "!./blocks\n",
        "!compute-sanitizer ./blocks"
      ],
      "metadata": {
        "colab": {
          "base_uri": "https://localhost:8080/"
        },
        "id": "HufJKespWSam",
        "outputId": "3980b3c8-88d8-4da3-c1ea-f3faaef96a20"
      },
      "execution_count": null,
      "outputs": [
        {
          "output_type": "stream",
          "name": "stdout",
          "text": [
            "Blocks successful!\n",
            "========= COMPUTE-SANITIZER\n",
            "Blocks successful!\n",
            "========= ERROR SUMMARY: 0 errors\n"
          ]
        }
      ]
    },
    {
      "cell_type": "markdown",
      "source": [
        "## Puzzle 4 - Blocks 2D\n",
        "\n",
        "Implement the same kernel in 2D.  You have fewer threads per block\n",
        "than the size of `A` in both directions."
      ],
      "metadata": {
        "id": "6AMsIvLzgqTD"
      }
    },
    {
      "cell_type": "code",
      "source": [
        "%%writefile map2d_block_kernel.cu\n",
        "#include <cuda_runtime.h>\n",
        "\n",
        "__global__ void Map2DBlock(float* A, float* C, float size) {\n",
        "  /// CODE HERE (approx 4 lines) ///\n",
        "\n",
        "}"
      ],
      "metadata": {
        "colab": {
          "base_uri": "https://localhost:8080/"
        },
        "id": "HbKj-aWnWbP9",
        "outputId": "e23a672e-0c4b-4574-dd32-d869bb120576"
      },
      "execution_count": null,
      "outputs": [
        {
          "output_type": "stream",
          "name": "stdout",
          "text": [
            "Writing map2d_block_kernel.cu\n"
          ]
        }
      ]
    },
    {
      "cell_type": "code",
      "source": [
        "!nvcc -c -o map2d_block_runner.o map2d_block_runner.cu\n",
        "!nvcc -c -o map2d_block_kernel.o map2d_block_kernel.cu\n",
        "!nvcc -o map2d_block map2d_block_runner.o map2d_block_kernel.o\n",
        "!./map2d_block\n",
        "!compute-sanitizer ./map2d_block"
      ],
      "metadata": {
        "colab": {
          "base_uri": "https://localhost:8080/"
        },
        "id": "ovRKwbPYWonu",
        "outputId": "d6543382-7453-46fd-fe06-b5f96e578f14"
      },
      "execution_count": null,
      "outputs": [
        {
          "output_type": "stream",
          "name": "stdout",
          "text": [
            "2D mapping successful\n",
            "========= COMPUTE-SANITIZER\n",
            "2D mapping successful\n",
            "========= ERROR SUMMARY: 0 errors\n"
          ]
        }
      ]
    },
    {
      "cell_type": "markdown",
      "source": [
        "## Puzzle 5 - Shared\n",
        "\n",
        "Implement a kernel that adds 10 to each position of `A` and stores it in `C`.\n",
        "You have fewer threads per block than the size of `A`.\n",
        "\n",
        "**Warning**: Each block can only have a *constant* amount of shared\n",
        " memory that threads in that block can read and write to. This needs\n",
        " to be a literal constant not a variable. After writing to\n",
        " shared memory you need to call `__syncthreads();` to ensure that\n",
        " threads do not cross."
      ],
      "metadata": {
        "id": "sDTC1DTXgriY"
      }
    },
    {
      "cell_type": "code",
      "source": [
        "%%writefile shared_kernel.cu\n",
        "#include <cuda_runtime.h>\n",
        "\n",
        "__global__ void Shared(float* A, float* C, float size) {\n",
        "  extern __shared__ float sharedMem[];\n",
        "  /// CODE HERE (approx 7 lines) ///\n",
        "\n",
        "}"
      ],
      "metadata": {
        "colab": {
          "base_uri": "https://localhost:8080/"
        },
        "id": "NMySSkNjW0s-",
        "outputId": "09c22bdf-c031-49ea-b6b9-0f8bab0088b0"
      },
      "execution_count": null,
      "outputs": [
        {
          "output_type": "stream",
          "name": "stdout",
          "text": [
            "Writing shared_kernel.cu\n"
          ]
        }
      ]
    },
    {
      "cell_type": "code",
      "source": [
        "!nvcc -c -o shared_runner.o shared_runner.cu\n",
        "!nvcc -c -o shared_kernel.o shared_kernel.cu\n",
        "!nvcc -o shared shared_runner.o shared_kernel.o\n",
        "!./shared\n",
        "!compute-sanitizer ./shared"
      ],
      "metadata": {
        "colab": {
          "base_uri": "https://localhost:8080/"
        },
        "id": "V3py0JATXb7t",
        "outputId": "797e40cd-7afd-4bb2-cbe4-5cca91f2e2af"
      },
      "execution_count": null,
      "outputs": [
        {
          "output_type": "stream",
          "name": "stdout",
          "text": [
            "Shared successful!\n",
            "========= COMPUTE-SANITIZER\n",
            "Shared successful!\n",
            "========= ERROR SUMMARY: 0 errors\n"
          ]
        }
      ]
    }
  ]
}